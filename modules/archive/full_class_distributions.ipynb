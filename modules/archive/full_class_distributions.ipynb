{
 "cells": [
  {
   "cell_type": "code",
   "execution_count": null,
   "metadata": {
    "vscode": {
     "languageId": "python"
    }
   },
   "outputs": [],
   "source": [
    "full_PACT = pd.read_csv(\"..\\data\\paragraphs.csv\", sep=';')\n",
    "\n",
    "exclude_columns = [\"report_namePKO\", \"paragraphNumber\", \"paragraph_ID\"]\n",
    "potential_categories = [col for col in full_PACT.columns if col not in exclude_columns]\n",
    "\n",
    "# Check which of these columns contain boolean-like data\n",
    "all_categories = []\n",
    "for col in potential_categories:\n",
    "    # Check if column contains only boolean values, or strings, or NaNs\n",
    "    unique_values = full_PACT[col].dropna().unique()\n",
    "    if all(isinstance(x, bool) for x in unique_values) or \\\n",
    "       all(isinstance(x, str) for x in unique_values) or \\\n",
    "       len(unique_values) <= 2:  # Assuming binary categories\n",
    "        all_categories.append(col)\n",
    "\n",
    "print(f\"Detected {len(all_categories)} category columns\")\n",
    "\n",
    "# Convert string values to boolean if needed\n",
    "for category in all_categories:\n",
    "    full_PACT[category] = full_PACT[category].map(lambda x: isinstance(x, str) if pd.notna(x) else False)\n",
    "\n",
    "# Calculate counts and distribution\n",
    "class_counts = full_PACT[all_categories].sum()\n",
    "total_samples = len(full_PACT)\n",
    "class_distribution = class_counts / total_samples\n",
    "\n",
    "# Sort categories by frequency for better readability\n",
    "sorted_categories = class_counts.sort_values(ascending=False).index.tolist()\n",
    "\n",
    "# Create a markdown table\n",
    "print(\"## Class Distribution in paragraphs.csv (All Categories)\\n\")\n",
    "print(\"| Category | Count | Proportion | Percentage |\")\n",
    "print(\"|----------|-------|------------|------------|\")\n",
    "for category in sorted_categories:\n",
    "    count = class_counts[category]\n",
    "    proportion = class_distribution[category]\n",
    "    print(f\"| {category} | {count} | {proportion:.4f} | {proportion*100:.2f}% |\")\n",
    "\n",
    "# Add summary row\n",
    "print(f\"| **Total Documents** | {total_samples} | - | - |\")\n",
    "\n",
    "# Calculate and add imbalance ratio\n",
    "most_frequent = class_distribution.max()\n",
    "least_frequent = class_distribution.min()\n",
    "imbalance_ratio = most_frequent / least_frequent\n",
    "print(f\"\\n**Imbalance ratio (most frequent / least frequent)**: {imbalance_ratio:.2f}\")"
   ]
  }
 ],
 "metadata": {
  "language_info": {
   "name": "plaintext"
  }
 },
 "nbformat": 4,
 "nbformat_minor": 2
}
